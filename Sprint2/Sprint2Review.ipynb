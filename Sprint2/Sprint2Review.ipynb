{
 "cells": [
  {
   "cell_type": "markdown",
   "metadata": {},
   "source": [
    "<h1 style=\"color:DodgerBlue\">Sprint2 Review</h1>"
   ]
  },
  {
   "cell_type": "markdown",
   "metadata": {},
   "source": [
    "<h2 style=\"color:DodgerBlue\">Реализация:</h2>\n",
    "\n",
    "----"
   ]
  },
  {
   "cell_type": "code",
   "execution_count": 23,
   "metadata": {
    "dotnet_interactive": {
     "language": "csharp"
    },
    "polyglot_notebook": {
     "kernelName": "csharp"
    }
   },
   "outputs": [
    {
     "name": "stdout",
     "output_type": "stream",
     "text": [
      "Сотрудник: Иван\n",
      "Должность: Разработчик\n",
      "Зарплата: 80000 руб\n",
      "\n",
      "Сотрудник: Анна\n",
      "Должность: Менеджер\n",
      "Зарплата: 120000 руб\n",
      "Отдел: IT\n",
      "\n",
      "Сотрудник: Сергей\n",
      "Должность: ПМ\n",
      "Зарплата: 150000 руб\n",
      "Отдел: Разработка\n",
      "Проект: ООП\n",
      "Отчет:\n",
      "Менеджер: Сергей\n",
      "Команда: 3 человек\n",
      "Команда: Иван, Мария, Алексей\n"
     ]
    }
   ],
   "source": [
    "using System;\n",
    "\n",
    "public class Employee\n",
    "{\n",
    "    public string Name {get; set;}\n",
    "    public string Position {get; set;}\n",
    "    public double Salary {get; set;}\n",
    "\n",
    "    public Employee(string name, string position, double salary)\n",
    "    {\n",
    "        Name = name;\n",
    "        Position = position;\n",
    "        Salary = salary;\n",
    "    }\n",
    "\n",
    "    public virtual void PrintInfo()\n",
    "    {\n",
    "        Console.WriteLine($\"Сотрудник: {Name}\");\n",
    "        Console.WriteLine($\"Должность: {Position}\");\n",
    "        Console.WriteLine($\"Зарплата: {Salary} руб\");\n",
    "    }\n",
    "}\n",
    "\n",
    "public class Manager:Employee\n",
    "{\n",
    "    public string Department {get; set;}\n",
    "\n",
    "    public Manager(string name, string position, double salary, string department) \n",
    "        : base(name, position, salary)\n",
    "    {\n",
    "        Department = department;\n",
    "    }\n",
    "\n",
    "    public override void PrintInfo()\n",
    "    {\n",
    "        base.PrintInfo();\n",
    "        Console.WriteLine($\"Отдел: {Department}\");\n",
    "    }\n",
    "}\n",
    "\n",
    "public interface IReportable\n",
    "{\n",
    "    string GenerateReport();\n",
    "}\n",
    "\n",
    "public interface ITeamLeader\n",
    "{\n",
    "    string[] GetTeamMembers();\n",
    "}\n",
    "\n",
    "public class ProjectManager:Manager, IReportable, ITeamLeader\n",
    "{\n",
    "    public string ProjectName {get; set;}\n",
    "    private string[] _teamMembers;\n",
    "\n",
    "    public ProjectManager(string name, string position, double salary, string department, string projectName, string[] teamMembers) \n",
    "    :base(name, position, salary, department)\n",
    "    {\n",
    "        ProjectName = projectName;\n",
    "        _teamMembers = teamMembers;\n",
    "    }\n",
    "\n",
    "    public override void PrintInfo()\n",
    "    {\n",
    "        base.PrintInfo();\n",
    "        Console.WriteLine($\"Проект: {ProjectName}\");\n",
    "    }\n",
    "\n",
    "    public string GenerateReport()\n",
    "    {\n",
    "        return $\"Отчет:\\n\" +$\"Менеджер: {Name}\\n\" +$\"Команда: {_teamMembers.Length} человек\";\n",
    "    }\n",
    "\n",
    "    public string[] GetTeamMembers()\n",
    "    {\n",
    "        return _teamMembers;\n",
    "    }\n",
    "}\n",
    "        \n",
    "var employee = new Employee(\"Иван\", \"Разработчик\", 80000);\n",
    "var manager = new Manager(\"Анна\", \"Менеджер\", 120000, \"IT\");\n",
    "var pm = new ProjectManager(\"Сергей\", \"ПМ\", 150000, \"Разработка\", \"ООП\", new string[] {\"Иван\", \"Мария\", \"Алексей\"});\n",
    "employee.PrintInfo();\n",
    "Console.WriteLine();\n",
    "manager.PrintInfo();\n",
    "Console.WriteLine();\n",
    "pm.PrintInfo();\n",
    "Console.WriteLine(pm.GenerateReport());\n",
    "Console.WriteLine(\"Команда: \" + string.Join(\", \", pm.GetTeamMembers()));"
   ]
  }
 ],
 "metadata": {
  "kernelspec": {
   "display_name": ".NET (C#)",
   "language": "C#",
   "name": ".net-csharp"
  },
  "polyglot_notebook": {
   "kernelInfo": {
    "defaultKernelName": "csharp",
    "items": [
     {
      "aliases": [],
      "languageName": "csharp",
      "name": "csharp"
     }
    ]
   }
  }
 },
 "nbformat": 4,
 "nbformat_minor": 2
}
