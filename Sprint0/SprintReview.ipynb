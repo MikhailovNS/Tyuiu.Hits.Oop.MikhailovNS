{
 "cells": [
  {
   "cell_type": "markdown",
   "metadata": {},
   "source": [
    "Спринт ревью"
   ]
  },
  {
   "cell_type": "markdown",
   "metadata": {},
   "source": [
    "<h2 style=\"color:DodgerBlue\">Описание проекта:</h2>\n",
    "\n",
    "----\n",
    "\n"
   ]
  },
  {
   "cell_type": "markdown",
   "metadata": {},
   "source": [
    "<h2 style=\"color:DodgerBlue\">Реализация:</h2>\n",
    "\n",
    "----"
   ]
  },
  {
   "cell_type": "code",
   "execution_count": 28,
   "metadata": {
    "dotnet_interactive": {
     "language": "csharp"
    },
    "polyglot_notebook": {
     "kernelName": "csharp"
    }
   },
   "outputs": [
    {
     "name": "stdout",
     "output_type": "stream",
     "text": [
      "Result\n",
      "\n",
      "Цветок Роза цветет и пахнет\n",
      "Растение Роза выросло на 5 см. Его высота: 50 см\n",
      "Цветок Роза увядает\n",
      "\n",
      "У дерева Дуб растут листочки\n",
      "Растение Дуб выросло на 2 см. Его высота: 352 см\n",
      "Дерево Дуб постарело на 1 лет. Его возраст: 11 лет\n",
      "\n",
      "Цветок: Роза, Цвет: Красный, Лепестков: 12, Высота: 50 см\n",
      "Дерево: Дуб, Возраст: 11 лет, Тип листьев: Лиственные, Высота: 352 см\n"
     ]
    }
   ],
   "source": [
    "using System;\n",
    "\n",
    "public class Plant\n",
    "{\n",
    "    public string Name { get; set; }\n",
    "    public string Type { get; set; }\n",
    "    public float Height { get; set; }\n",
    "    \n",
    "    public Plant(string name, string type, float height)\n",
    "    {\n",
    "        Name = name;\n",
    "        Type = type;\n",
    "        Height = height;\n",
    "    }\n",
    "    //*цветение\n",
    "    public virtual void Bloom()\n",
    "    {\n",
    "        Console.WriteLine($\"Растение {Name} цветет\");\n",
    "    }\n",
    "    public void Grow(float growth)  \n",
    "    {\n",
    "        Height += growth;\n",
    "        Console.WriteLine($\"Растение {Name} выросло на {growth} см. Его высота: {Height} см\");\n",
    "    }\n",
    "}   \n",
    "public class Flower : Plant\n",
    "{\n",
    "    public string Color { get; set; } //цвет\n",
    "    public int PetalsCount { get; set; } //*количество листьев\n",
    "\n",
    "    public Flower(string name, string color, int petalsCount, float height) \n",
    "        :base(name, \"Цветок\", height)\n",
    "    {\n",
    "        Color = color;\n",
    "        PetalsCount = petalsCount;\n",
    "    }\n",
    "    //*цветение\n",
    "    public override void Bloom()\n",
    "    {\n",
    "        Console.WriteLine($\"Цветок {Name} цветет и пахнет\");\n",
    "    }\n",
    "    //*увядание\n",
    "    public void Wither()\n",
    "    {\n",
    "        Console.WriteLine($\"Цветок {Name} увядает\");\n",
    "    }\n",
    "}\n",
    "public class Tree : Plant\n",
    "{\n",
    "    public int Age { get; set; } //*годы\n",
    "    public string LeavesType { get; set; } //*тип листьев\n",
    "    public Tree(string name, int age, string leavesType, float height) \n",
    "        :base(name, \"Дерево\", height)\n",
    "    {\n",
    "        Age = age;\n",
    "        LeavesType = leavesType;\n",
    "    }\n",
    "    public override void Bloom()\n",
    "    {\n",
    "        Console.WriteLine($\"У дерева {Name} растут листочки\");\n",
    "    }\n",
    "    public void Grow(int years)\n",
    "    {\n",
    "        Age += years;\n",
    "        Console.WriteLine($\"Дерево {Name} постарело на {years} лет. Его возраст: {Age} лет\");\n",
    "    }\n",
    "}\n",
    "\n",
    "Flower rose = new Flower(\"Роза\", \"Красный\", 12, 45f);\n",
    "Tree oak = new Tree(\"Дуб\", 10, \"Лиственные\", 350f);\n",
    "Console.WriteLine(\"Result\\n\");\n",
    "rose.Bloom();\n",
    "rose.Grow(5f);\n",
    "rose.Wither();\n",
    "Console.WriteLine();\n",
    "oak.Bloom();\n",
    "oak.Grow(2f);\n",
    "oak.Grow(1);\n",
    "Console.WriteLine();\n",
    "Console.WriteLine($\"Цветок: {rose.Name}, Цвет: {rose.Color}, Лепестков: {rose.PetalsCount}, Высота: {rose.Height} см\");\n",
    "Console.WriteLine($\"Дерево: {oak.Name}, Возраст: {oak.Age} лет, Тип листьев: {oak.LeavesType}, Высота: {oak.Height} см\");"
   ]
  }
 ],
 "metadata": {
  "kernelspec": {
   "display_name": ".NET (C#)",
   "language": "C#",
   "name": ".net-csharp"
  },
  "polyglot_notebook": {
   "kernelInfo": {
    "defaultKernelName": "csharp",
    "items": [
     {
      "aliases": [],
      "languageName": "csharp",
      "name": "csharp"
     }
    ]
   }
  }
 },
 "nbformat": 4,
 "nbformat_minor": 2
}
