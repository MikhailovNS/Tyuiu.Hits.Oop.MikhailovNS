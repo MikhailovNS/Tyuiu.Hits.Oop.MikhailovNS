{
 "cells": [
  {
   "cell_type": "markdown",
   "metadata": {},
   "source": [
    "<h1 style=\"color:DodgerBlue\">Индивидальный проект</h1>"
   ]
  },
  {
   "cell_type": "markdown",
   "metadata": {},
   "source": [
    "<h2 style=\"color:DodgerBlue\">Название проекта:</h2>\n",
    "\n",
    "----\n",
    "\n",
    "### Вариант задания \n"
   ]
  },
  {
   "cell_type": "markdown",
   "metadata": {},
   "source": [
    "<h2 style=\"color:DodgerBlue\">Описание проекта:</h2>\n",
    "\n",
    "----\n",
    "\n",
    "Создать базовый класс Supplier в C#, который будет представлять информацию о\n",
    "поставщиках товаров или услуг. На основе этого класса разработать 2-3\n",
    "производных класса, демонстрирующих принципы наследования и полиморфизма.\n",
    "В каждом из классов должны быть реализованы новые атрибуты и методы, а также\n",
    "переопределены некоторые методы базового класса для демонстрации\n",
    "полиморфизма.\n",
    "\n",
    "#### Дополнительное задание\n",
    "Добавьте к сущестующим классам конструктора классов с использованием гетторов и сетторов и реализуйте взаимодействие объектов между собой"
   ]
  },
  {
   "cell_type": "markdown",
   "metadata": {},
   "source": [
    "<h2 style=\"color:DodgerBlue\">Реализация:</h2>\n",
    "\n",
    "----"
   ]
  },
  {
   "cell_type": "code",
   "execution_count": null,
   "metadata": {
    "dotnet_interactive": {
     "language": "csharp"
    },
    "polyglot_notebook": {
     "kernelName": "csharp"
    }
   },
   "outputs": [],
   "source": [
    "using System;\n",
    "\n",
    "public class Supplier\n",
    "{\n",
    "    public int SupplierId { get; set; }\n",
    "    public string CompanyName { get; set; }\n",
    "    public string ProductType { get; set; }\n",
    "\n",
    "    public Supplier( string companyName, string productType)\n",
    "    {\n",
    "        CompanyName = companyName;\n",
    "        ProductType = productType;\n",
    "    }\n",
    "\n",
    "    public virtual string GetCompanyInfo()\n",
    "    {\n",
    "        return $\"Компания: {CompanyName}, Тип продукции: {ProductType}\";\n",
    "    }\n",
    "\n",
    "    public virtual string ProvideQuote()\n",
    "    {\n",
    "        return $\"Котировка от {CompanyName} на {ProductType}\";\n",
    "    }\n",
    "\n",
    "    public virtual string SubmitOrder()\n",
    "    {\n",
    "        return $\"Заказ отправлен поставщику {CompanyName}\";\n",
    "    }\n",
    "}\n",
    "\n",
    "public class Manufacturer : Supplier\n",
    "{\n",
    "    public int FoundedYear { get; set; }\n",
    "\n",
    "    public Manufacturer(string companyName, string productType, int foundedYear)\n",
    "        : base(companyName, productType)\n",
    "    {\n",
    "        FoundedYear = foundedYear;\n",
    "    }\n",
    "\n",
    "    public override string ProvideQuote()\n",
    "    {\n",
    "        return $\"Котировка от производителя {CompanyName} (основан в {FoundedYear} году) на {ProductType}\";\n",
    "    }\n",
    "}\n",
    "\n",
    "public class Retailer : Supplier\n",
    "{\n",
    "    public string StoreLocation { get; set; }\n",
    "\n",
    "    public Retailer(string companyName, string productType, string storeLocation)\n",
    "        : base( companyName, productType)\n",
    "    {\n",
    "        StoreLocation = storeLocation;\n",
    "    }\n",
    "\n",
    "    public override string SubmitOrder()\n",
    "    {\n",
    "        return $\"Заказ отправлен ритейлеру {CompanyName} (магазин находится по адресу: {StoreLocation})\";\n",
    "    }\n",
    "}\n",
    "\n",
    "public class Importer : Supplier\n",
    "{\n",
    "    public string OriginCountry { get; set; }\n",
    "\n",
    "    public Importer( string companyName, string productType, string originCountry)\n",
    "        : base( companyName, productType)\n",
    "    {\n",
    "        OriginCountry = originCountry;\n",
    "    }\n",
    "\n",
    "    public override string GetCompanyInfo()\n",
    "    {\n",
    "        return $\"Компания: {CompanyName}, Тип продукции: {ProductType}, Страна происхождения: {OriginCountry}\";\n",
    "    }\n",
    "}\n",
    "\n",
    "Manufacturer myManufacturer = new Manufacturer(\"ООО 'ТехноПром'\", \"электроника\", 1995); //поставщики\n",
    "Retailer myRetailer = new Retailer(\"Магазин 'Чернуха'\", \"бытовая техника\", \"ул. Ленина, 228\");\n",
    "Importer myImporter = new Importer(\"ИмпортТрейд\", \"кофе\", \"Бразилия\");\n",
    "\n",
    "Console.WriteLine(\"Простые действия с поставщиками\\n\");\n",
    "Console.WriteLine(myManufacturer.GetCompanyInfo());\n",
    "Console.WriteLine(myManufacturer.ProvideQuote());\n",
    "Console.WriteLine(myManufacturer.SubmitOrder());\n",
    "Console.WriteLine();\n",
    "\n",
    "Console.WriteLine(myRetailer.GetCompanyInfo());\n",
    "Console.WriteLine(myRetailer.ProvideQuote());\n",
    "Console.WriteLine(myRetailer.SubmitOrder());\n",
    "Console.WriteLine();\n",
    "\n",
    "Console.WriteLine(myImporter.GetCompanyInfo());\n",
    "Console.WriteLine(myImporter.ProvideQuote());\n",
    "Console.WriteLine(myImporter.SubmitOrder());"
   ]
  }
 ],
 "metadata": {
  "kernelspec": {
   "display_name": ".NET (C#)",
   "language": "C#",
   "name": ".net-csharp"
  },
  "polyglot_notebook": {
   "kernelInfo": {
    "defaultKernelName": "csharp",
    "items": [
     {
      "aliases": [],
      "languageName": "csharp",
      "name": "csharp"
     }
    ]
   }
  }
 },
 "nbformat": 4,
 "nbformat_minor": 2
}
