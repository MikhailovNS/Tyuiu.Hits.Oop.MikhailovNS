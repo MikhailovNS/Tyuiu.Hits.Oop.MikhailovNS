{
 "cells": [
  {
   "cell_type": "markdown",
   "metadata": {},
   "source": [
    "<h1 style=\"color:DodgerBlue\">Спринт ревью</h1>"
   ]
  },
  {
   "cell_type": "markdown",
   "metadata": {},
   "source": [
    "<h2 style=\"color:DodgerBlue\">Реализация:</h2>\n",
    "\n",
    "----"
   ]
  },
  {
   "cell_type": "code",
   "execution_count": null,
   "metadata": {
    "dotnet_interactive": {
     "language": "csharp"
    },
    "polyglot_notebook": {
     "kernelName": "csharp"
    }
   },
   "outputs": [
    {
     "name": "stdout",
     "output_type": "stream",
     "text": [
      "Магазин: Продукты, Адрес: ул. Ленина 4\n",
      "Продавец: Маша, ID: 1, зп: 30000, КД:+79220762615\n",
      "Товар: Хлеб, Цена: 50, Количество: 100, Категория:Выпечка, Описание: Свежий хлеб\n",
      "Общая стоимость: 5000\n",
      "После продажи: Товар: Хлеб, Цена: 50, Количество: 90, Категория:Выпечка, Описание: Свежий хлеб\n"
     ]
    }
   ],
   "source": [
    "using System;\n",
    "\n",
    "public class Product\n",
    "{\n",
    "    private string name;\n",
    "    private decimal price;\n",
    "    private int quantity;\n",
    "    protected string category;\n",
    "    internal string description;\n",
    "\n",
    "    public Product(string name, decimal price, int quantity, string category, string description)\n",
    "    {\n",
    "        this.name = name;\n",
    "        this.price = price;\n",
    "        this.quantity = quantity;\n",
    "        this.category = category;\n",
    "        this.description = description;\n",
    "    }\n",
    "\n",
    "    public decimal GetTotalPrice()\n",
    "    {\n",
    "        return price * quantity;\n",
    "    }\n",
    "\n",
    "    public void UpdateQuantity(int amount)\n",
    "    {\n",
    "        quantity += amount;\n",
    "    }\n",
    "\n",
    "    public string GetProductInfo()\n",
    "    {\n",
    "        return $\"Товар: {name}, Цена: {price}, Количество: {quantity}, Категория: {category}, Описание: {description}\";\n",
    "    }\n",
    "\n",
    "    public int GetQuantity() => quantity;\n",
    "}\n",
    "\n",
    "public class Seller\n",
    "{\n",
    "    private string name;\n",
    "    private string employeeId;\n",
    "    protected decimal salary;\n",
    "    internal string contactInfo;\n",
    "\n",
    "    public Seller(string name, string employeeId, decimal salary, string contactInfo)\n",
    "    {\n",
    "        this.name = name;\n",
    "        this.employeeId = employeeId;\n",
    "        this.salary = salary;\n",
    "        this.contactInfo = contactInfo;\n",
    "    }\n",
    "\n",
    "    public void SellProduct(Product product, int quantity)\n",
    "    {\n",
    "        if (product.GetQuantity() >= quantity)\n",
    "        {\n",
    "            product.UpdateQuantity(-quantity);\n",
    "        }\n",
    "    }\n",
    "\n",
    "    public string GetSellerInfo()\n",
    "    {\n",
    "        return $\"Продавец: {name}, ID: {employeeId}, зп: {salary}, КД:{contactInfo}\";\n",
    "    }\n",
    "}\n",
    "\n",
    "public class Store\n",
    "{\n",
    "    private string storeName;\n",
    "    private string location;\n",
    "    public string storeHours;\n",
    "\n",
    "    public Store(string storeName, string location, string storeHours)\n",
    "    {\n",
    "        this.storeName = storeName;\n",
    "        this.location = location;\n",
    "        this.storeHours = storeHours;\n",
    "    }\n",
    "\n",
    "    public string GetStoreInfo()\n",
    "    {\n",
    "        return $\"Магазин: {storeName}, Адрес: {location}\";\n",
    "    }\n",
    "}\n",
    "\n",
    "        Product product = new Product(\"Хлеб\", 50, 100, \"Выпечка\", \"Свежий хлеб\");\n",
    "        Seller seller = new Seller(\"Маша\", \"1\", 30000, \"+79220762615\");\n",
    "        Store store = new Store(\"Продукты\", \"ул. Ленина 4\", \"9-21\");\n",
    "\n",
    "        Console.WriteLine(store.GetStoreInfo());\n",
    "        Console.WriteLine(seller.GetSellerInfo());\n",
    "        Console.WriteLine(product.GetProductInfo());\n",
    "        Console.WriteLine($\"Общая стоимость: {product.GetTotalPrice()}\");\n",
    "        \n",
    "        seller.SellProduct(product, 10);\n",
    "        Console.WriteLine($\"После продажи: {product.GetProductInfo()}\");"
   ]
  }
 ],
 "metadata": {
  "kernelspec": {
   "display_name": ".NET (C#)",
   "language": "C#",
   "name": ".net-csharp"
  },
  "polyglot_notebook": {
   "kernelInfo": {
    "defaultKernelName": "csharp",
    "items": [
     {
      "aliases": [],
      "languageName": "csharp",
      "name": "csharp"
     }
    ]
   }
  }
 },
 "nbformat": 4,
 "nbformat_minor": 2
}
